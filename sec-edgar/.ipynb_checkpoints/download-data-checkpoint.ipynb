{
 "cells": [
  {
   "cell_type": "markdown",
   "metadata": {},
   "source": [
    "We check for R's working directory and clear the memory environment"
   ]
  },
  {
   "cell_type": "code",
   "execution_count": 22,
   "metadata": {},
   "outputs": [
    {
     "data": {
      "text/html": [
       "'/home/lngo/workspace/data-acquisition/sec-edgar'"
      ],
      "text/latex": [
       "'/home/lngo/workspace/data-acquisition/sec-edgar'"
      ],
      "text/markdown": [
       "'/home/lngo/workspace/data-acquisition/sec-edgar'"
      ],
      "text/plain": [
       "[1] \"/home/lngo/workspace/data-acquisition/sec-edgar\""
      ]
     },
     "metadata": {},
     "output_type": "display_data"
    },
    {
     "name": "stderr",
     "output_type": "stream",
     "text": [
      "Warning message in readLines(\"EDGAR_LogFileData_thru_Jun2017.txt\"):\n",
      "“incomplete final line found on 'EDGAR_LogFileData_thru_Jun2017.txt'”"
     ]
    }
   ],
   "source": [
    "getwd()\n",
    "rm(list = ls())\n",
    "\n",
    "edgar_URLS <- readLines('EDGAR_LogFileData_thru_Jun2017.txt')"
   ]
  },
  {
   "cell_type": "code",
   "execution_count": 23,
   "metadata": {},
   "outputs": [
    {
     "data": {
      "text/html": [
       "5293"
      ],
      "text/latex": [
       "5293"
      ],
      "text/markdown": [
       "5293"
      ],
      "text/plain": [
       "[1] 5293"
      ]
     },
     "metadata": {},
     "output_type": "display_data"
    }
   ],
   "source": [
    "length(edgar_URLS)"
   ]
  },
  {
   "cell_type": "code",
   "execution_count": 27,
   "metadata": {},
   "outputs": [
    {
     "data": {
      "text/html": [
       "'www.sec.gov/dera/data/Public-EDGAR-log-file-data/2003/Qtr1/log20030101.zip '"
      ],
      "text/latex": [
       "'www.sec.gov/dera/data/Public-EDGAR-log-file-data/2003/Qtr1/log20030101.zip '"
      ],
      "text/markdown": [
       "'www.sec.gov/dera/data/Public-EDGAR-log-file-data/2003/Qtr1/log20030101.zip '"
      ],
      "text/plain": [
       "[1] \"www.sec.gov/dera/data/Public-EDGAR-log-file-data/2003/Qtr1/log20030101.zip \""
      ]
     },
     "metadata": {},
     "output_type": "display_data"
    }
   ],
   "source": [
    "edgar_URLS[1]"
   ]
  },
  {
   "cell_type": "code",
   "execution_count": 29,
   "metadata": {},
   "outputs": [
    {
     "data": {
      "text/html": [],
      "text/latex": [],
      "text/markdown": [],
      "text/plain": [
       "character(0)"
      ]
     },
     "metadata": {},
     "output_type": "display_data"
    },
    {
     "data": {
      "text/html": [
       "<ol class=list-inline>\n",
       "\t<li>'edgar'</li>\n",
       "\t<li>'__jupyterhub__'</li>\n",
       "\t<li>'wpu'</li>\n",
       "</ol>\n"
      ],
      "text/latex": [
       "\\begin{enumerate*}\n",
       "\\item 'edgar'\n",
       "\\item '\\_\\_jupyterhub\\_\\_'\n",
       "\\item 'wpu'\n",
       "\\end{enumerate*}\n"
      ],
      "text/markdown": [
       "1. 'edgar'\n",
       "2. '__jupyterhub__'\n",
       "3. 'wpu'\n",
       "\n",
       "\n"
      ],
      "text/plain": [
       "[1] \"edgar\"          \"__jupyterhub__\" \"wpu\"           "
      ]
     },
     "metadata": {},
     "output_type": "display_data"
    }
   ],
   "source": [
    "library(parallel)\n",
    "\n",
    "# create a temporary download directory. In this case we are using /scratch2 on Palmetto. Change lngo to your username\n",
    "system2('mkdir',args = c('-p', '/scratch2/lngo/edgar'), stderr = TRUE, stdout = TRUE)\n",
    "system2('ls', args = c('/scratch2/lngo'), stdout = TRUE)\n",
    "target_dir <- '/scratch2/lngo/edgar'\n",
    "\n",
    "download_edgar <- function(i){\n",
    "  shares <- length(edgar_URLS) %/% numCores\n",
    "  remainder <- 0\n",
    "  if (i == numCores) {\n",
    "    remainder <- length(edgar_URLS) %% numCores\n",
    "  }\n",
    "    \n",
    "  startIndex <- (i - 1) * shares + 1\n",
    "  endIndex <- startIndex + shares - 1\n",
    "  file_names <- character(shares + remainder)\n",
    "  k <- 1\n",
    "    \n",
    "  for (j in startIndex:endIndex){\n",
    "    url_components <- strsplit(trimws(edgar_URLS[j]), split = '/', fixed = TRUE)\n",
    "    log_file <- paste0(target_dir,'/',url_components[[1]][7])\n",
    "    log_prefix <- strsplit(log_file, split = '.', fixed = TRUE)[[1]][1]\n",
    "    download.file(edgar_URLS[j], log_file, mode='wb')\n",
    "    file_names[k] <- edgar_URLS[j]\n",
    "    k <- k + 1\n",
    "  }\n",
    "  file_names\n",
    "}"
   ]
  },
  {
   "cell_type": "code",
   "execution_count": 30,
   "metadata": {},
   "outputs": [
    {
     "data": {
      "text/plain": [
       "     user    system   elapsed \n",
       "  350.334   409.685 33364.341 "
      ]
     },
     "metadata": {},
     "output_type": "display_data"
    }
   ],
   "source": [
    "system.time({\n",
    "numCores <- detectCores() - 1\n",
    "cl <- makeCluster(numCores)\n",
    "#clusterExport(cl, edgar_URLS)\n",
    "#clusterExport(cl, target_dir)\n",
    "file_list <- mclapply(1:numCores, download_edgar)\n",
    "stopCluster(cl)\n",
    "}\n",
    ")"
   ]
  },
  {
   "cell_type": "code",
   "execution_count": 31,
   "metadata": {},
   "outputs": [
    {
     "ename": "ERROR",
     "evalue": "Error in summary.connection(connection): invalid connection\n",
     "output_type": "error",
     "traceback": [
      "Error in summary.connection(connection): invalid connection\nTraceback:\n",
      "1. stopCluster(cl)",
      "2. stopCluster.default(cl)",
      "3. stopNode(n)",
      "4. postNode(n, \"DONE\")",
      "5. sendData(con, list(type = type, data = value, tag = tag))",
      "6. sendData.SOCKnode(con, list(type = type, data = value, tag = tag))",
      "7. serialize(data, node$con)",
      "8. summary(connection)",
      "9. summary.connection(connection)"
     ]
    }
   ],
   "source": [
    "stopCluster(cl)"
   ]
  },
  {
   "cell_type": "code",
   "execution_count": null,
   "metadata": {},
   "outputs": [],
   "source": [
    "str(file_list)"
   ]
  },
  {
   "cell_type": "code",
   "execution_count": 28,
   "metadata": {},
   "outputs": [],
   "source": [
    "download.file(edgar_URLS[1], \"test.zip\", mode='wb')"
   ]
  }
 ],
 "metadata": {
  "kernelspec": {
   "display_name": "R 3.4.2",
   "language": "R",
   "name": "ir342"
  },
  "language_info": {
   "codemirror_mode": "r",
   "file_extension": ".r",
   "mimetype": "text/x-r-source",
   "name": "R",
   "pygments_lexer": "r",
   "version": "3.4.2"
  }
 },
 "nbformat": 4,
 "nbformat_minor": 2
}
