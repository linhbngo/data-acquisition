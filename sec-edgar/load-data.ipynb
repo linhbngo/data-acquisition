{
 "cells": [
  {
   "cell_type": "code",
   "execution_count": 12,
   "metadata": {},
   "outputs": [],
   "source": [
    "import  sys\n",
    "import  os\n",
    "\n",
    "sys.path.insert(0, '/usr/hdp/current/spark2-client/python')\n",
    "sys.path.insert(0, '/usr/hdp/current/spark2-client/python/lib/py4j-0.10.4-src.zip')\n",
    "\n",
    "os.environ['SPARK_HOME'] = '/usr/hdp/current/spark2-client/'\n",
    "os.environ['SPARK_CONF_DIR'] = '/etc/hadoop/synced_conf/spark2/'\n",
    "os.environ['PYSPARK_PYTHON'] = '/software/anaconda3/5.1.0/bin/python'\n",
    "\n",
    "import pyspark\n",
    "conf = pyspark.SparkConf()\n",
    "conf.setMaster('yarn')\n",
    "conf.set('spark.driver.memory','4g')\n",
    "conf.set('spark.executor.instances', '20')\n",
    "conf.set('spark.executor.memory','160g')\n",
    "conf.set('spark.executor.cores','12')\n",
    "\n",
    "sc = pyspark.SparkContext(conf=conf)"
   ]
  },
  {
   "cell_type": "code",
   "execution_count": 13,
   "metadata": {},
   "outputs": [
    {
     "data": {
      "text/plain": [
       "<pyspark.context.SparkContext at 0x2b080d61b198>"
      ]
     },
     "execution_count": 13,
     "metadata": {},
     "output_type": "execute_result"
    }
   ],
   "source": [
    "sc"
   ]
  },
  {
   "cell_type": "code",
   "execution_count": 14,
   "metadata": {},
   "outputs": [],
   "source": [
    "edgar = sc.textFile('/repository/sec-edgar/edgar-unzipped')"
   ]
  },
  {
   "cell_type": "code",
   "execution_count": 15,
   "metadata": {},
   "outputs": [
    {
     "data": {
      "text/plain": [
       "/repository/sec-edgar/edgar-unzipped MapPartitionsRDD[1] at textFile at NativeMethodAccessorImpl.java:0"
      ]
     },
     "execution_count": 15,
     "metadata": {},
     "output_type": "execute_result"
    }
   ],
   "source": [
    "edgar.cache()"
   ]
  },
  {
   "cell_type": "code",
   "execution_count": 16,
   "metadata": {},
   "outputs": [
    {
     "name": "stdout",
     "output_type": "stream",
     "text": [
      "CPU times: user 2.5 s, sys: 1.02 s, total: 3.51 s\n",
      "Wall time: 7min 4s\n"
     ]
    },
    {
     "data": {
      "text/plain": [
       "26190728995"
      ]
     },
     "execution_count": 16,
     "metadata": {},
     "output_type": "execute_result"
    }
   ],
   "source": [
    "%%time\n",
    "edgar.count()"
   ]
  },
  {
   "cell_type": "code",
   "execution_count": 17,
   "metadata": {},
   "outputs": [
    {
     "name": "stdout",
     "output_type": "stream",
     "text": [
      "CPU times: user 2.12 s, sys: 994 ms, total: 3.11 s\n",
      "Wall time: 4min 19s\n"
     ]
    },
    {
     "data": {
      "text/plain": [
       "26190728995"
      ]
     },
     "execution_count": 17,
     "metadata": {},
     "output_type": "execute_result"
    }
   ],
   "source": [
    "%%time\n",
    "edgar.count()"
   ]
  },
  {
   "cell_type": "code",
   "execution_count": 18,
   "metadata": {},
   "outputs": [
    {
     "name": "stdout",
     "output_type": "stream",
     "text": [
      "CPU times: user 18.5 ms, sys: 0 ns, total: 18.5 ms\n",
      "Wall time: 255 ms\n"
     ]
    },
    {
     "data": {
      "text/plain": [
       "['ip,date,time,zone,cik,accession,extention,code,size,idx,norefer,noagent,find,crawler,browser',\n",
       " 'ip,date,time,zone,cik,accession,extention,code,size,idx,norefer,noagent,find,crawler,browser',\n",
       " '207.17.47.egd,2003-01-02,12:20:47,500.0,701345.0,0000701345-01-500024,.txt,200.0,63702.0,0.0,0.0,0.0,10.0,0.0,win',\n",
       " '205.138.200.bhe,2003-01-02,13:33:02,500.0,723527.0,0000912057-02-024736,.txt,200.0,33510.0,0.0,0.0,0.0,10.0,0.0,win',\n",
       " '24.129.201.jdd,2003-01-02,23:06:27,500.0,14272.0,0000950130-02-004740,.txt,200.0,179028.0,0.0,0.0,0.0,10.0,0.0,mie',\n",
       " 'ip,date,time,zone,cik,accession,extention,code,size,idx,norefer,noagent,find,crawler,browser',\n",
       " '12.38.196.jdj,2003-01-03,14:38:26,500.0,894490.0,0001021408-02-008917,.txt,200.0,32998.0,0.0,0.0,0.0,10.0,0.0,win',\n",
       " '12.38.196.jdj,2003-01-03,14:38:33,500.0,9892.0,0000009892-02-000016,.txt,200.0,59280.0,0.0,0.0,0.0,10.0,0.0,win',\n",
       " '12.38.196.jdj,2003-01-03,14:53:55,500.0,18926.0,0000018926-02-000013,.txt,200.0,27080.0,0.0,0.0,0.0,10.0,0.0,win',\n",
       " '12.38.196.jdj,2003-01-03,14:54:07,500.0,873364.0,0000950168-02-001796,.txt,200.0,34831.0,0.0,0.0,0.0,10.0,0.0,win']"
      ]
     },
     "execution_count": 18,
     "metadata": {},
     "output_type": "execute_result"
    }
   ],
   "source": [
    "%%time\n",
    "edgar.take(10)"
   ]
  },
  {
   "cell_type": "code",
   "execution_count": null,
   "metadata": {},
   "outputs": [],
   "source": []
  },
  {
   "cell_type": "code",
   "execution_count": null,
   "metadata": {},
   "outputs": [],
   "source": []
  },
  {
   "cell_type": "code",
   "execution_count": 11,
   "metadata": {},
   "outputs": [],
   "source": [
    "sc.stop()"
   ]
  },
  {
   "cell_type": "code",
   "execution_count": null,
   "metadata": {},
   "outputs": [],
   "source": []
  }
 ],
 "metadata": {
  "kernelspec": {
   "display_name": "Python 3 (Anaconda 5.1.0)",
   "language": "python",
   "name": "anaconda3-5.1.0"
  },
  "language_info": {
   "codemirror_mode": {
    "name": "ipython",
    "version": 3
   },
   "file_extension": ".py",
   "mimetype": "text/x-python",
   "name": "python",
   "nbconvert_exporter": "python",
   "pygments_lexer": "ipython3",
   "version": "3.6.4"
  }
 },
 "nbformat": 4,
 "nbformat_minor": 2
}
